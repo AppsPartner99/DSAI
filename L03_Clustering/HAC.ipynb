{
 "cells": [
  {
   "cell_type": "code",
   "execution_count": 47,
   "id": "14537250-cdf9-4da3-a42a-d73b859d9ec0",
   "metadata": {},
   "outputs": [],
   "source": [
    "import numpy as np\n",
    "import pandas as pd\n",
    "import matplotlib.pyplot as plt\n",
    "from matplotlib import patches"
   ]
  },
  {
   "cell_type": "code",
   "execution_count": 26,
   "id": "03a2f2ed-8df4-451d-8f9b-0b31dc8a4b50",
   "metadata": {},
   "outputs": [],
   "source": [
    "# Define sample data set\n",
    "x = np.array([1, 2, 5, 7])\n",
    "\n",
    "data = {'x': x, \n",
    "        'y': np.zeros(x.size),\n",
    "        'cluster': np.arange(x.size) + 1, \n",
    "        'color': np.arange(x.size)}"
   ]
  },
  {
   "cell_type": "markdown",
   "id": "687b6cc3-535b-491c-8cc9-e21b095b8d88",
   "metadata": {},
   "source": [
    "# Clustering\n",
    "## Hierarchical Clustering\n",
    "### Hierarchical Agglomerative Clustering"
   ]
  },
  {
   "cell_type": "code",
   "execution_count": 28,
   "id": "cdaf5315-07f2-4952-b1d2-a1e2dbf03f96",
   "metadata": {},
   "outputs": [
    {
     "data": {
      "image/png": "[encoded data removed]",
      "text/plain": [
       "<Figure size 1080x360 with 1 Axes>"
      ]
     },
     "metadata": {
      "needs_background": "light"
     },
     "output_type": "display_data"
    }
   ],
   "source": [
    "# Show the data set\n",
    "fig, ax = plt.subplots(figsize=(15,5))\n",
    "ax.scatter(data['x'], data['y'], s=100, marker='o', c=data['color']) #  edgecolors='#DB5461',\n",
    "\n",
    "for i in range(0,len(data['x'])):\n",
    "    ax.plot([data['x'][i], data['x'][i]], [0.15, 0.25], c='k', linestyle='--', alpha=0.2)\n",
    "    ax.text(data['x'][i]-0.2, 0.35, 'cluster: ' + str(data['cluster'][i]))\n",
    "ax.set_ylim([-2,1])\n",
    "ax.set_xlim([0,8])\n",
    "ax.get_yaxis().set_visible(False)\n",
    "fig.savefig('HAC_2.png', bbox_inches='tight', transparent=True)"
   ]
  },
  {
   "cell_type": "code",
   "execution_count": 29,
   "id": "53e6ef1e-8541-4dad-b5c6-8452c37c3140",
   "metadata": {},
   "outputs": [],
   "source": [
    "def prox_mtx(x):\n",
    "    \"\"\"\n",
    "    # Get all combinations from a 1d-array by using a small hack\n",
    "    m, n = np.meshgrid(data['x'], data['x'])\n",
    "    # Based on all combinations, we determine the difference. Thus, we get a distance, or proximity matrix\n",
    "    D = np.triu(np.abs(m-n))\n",
    "    \"\"\"\n",
    "    mtx = np.triu(np.abs(x[..., np.newaxis] - x))\n",
    "    return mtx, np.nanargmin(np.where(mtx != 0, mtx, np.nan).ravel())"
   ]
  },
  {
   "cell_type": "code",
   "execution_count": 30,
   "id": "fd714f00-7f21-48af-bfd7-005b28beb62d",
   "metadata": {},
   "outputs": [
    {
     "name": "stdout",
     "output_type": "stream",
     "text": [
      "[0 1 4 6]\n"
     ]
    }
   ],
   "source": [
    "distances, idx = prox_mtx(data['x'])\n",
    "distances = distances[0,:]\n",
    "print(distances)"
   ]
  },
  {
   "cell_type": "code",
   "execution_count": 32,
   "id": "d899c67a-7f57-40b4-80f2-f07ec267717f",
   "metadata": {},
   "outputs": [
    {
     "data": {
      "image/png": "[encoded data removed]",
      "text/plain": [
       "<Figure size 1080x360 with 1 Axes>"
      ]
     },
     "metadata": {
      "needs_background": "light"
     },
     "output_type": "display_data"
    }
   ],
   "source": [
    "# Show the data set\n",
    "fig, ax = plt.subplots(figsize=(15,5))\n",
    "ax.scatter(data['x'], data['y'], s=100, marker='o', c=data['color'])\n",
    "\n",
    "for i, val in enumerate(data['x']):\n",
    "    if i == 0:\n",
    "        ax.plot([val, val], [0, -0.25-(i*0.5)], c='k', linestyle='--', alpha=0.2)\n",
    "    else:   \n",
    "        ax.plot([val, val], [0, 0.25-(i*0.5)], c='k', linestyle='--', alpha=0.2)\n",
    "        ax.text((1.25 + distances[i]//2) , 0.25-(i*0.45) , 'distance: ' + str(distances[i]))\n",
    "\n",
    "    \n",
    "    ax.text(val-0.2, 0.35, 'cluster: ' + str(data['cluster'][i]))\n",
    "    \n",
    "    ax.plot([data['x'][0], data['x'][i]], [0.25-(i*0.5), 0.25-(i*0.5)], c='k', linestyle='--', alpha=0.2)\n",
    "    \n",
    "ax.plot([1, 1], [0, 0.25-(i*0.5)], c='k', linestyle='--', alpha=0.2)\n",
    "ax.set_ylim([-2,1])\n",
    "ax.set_xlim([0,8])\n",
    "ax.get_yaxis().set_visible(False)\n",
    "fig.savefig('HAC_3.png', bbox_inches='tight', transparent=True)"
   ]
  },
  {
   "cell_type": "code",
   "execution_count": 33,
   "id": "c9b3e264-d8b2-4984-be1d-1662a76741d2",
   "metadata": {},
   "outputs": [],
   "source": [
    "# Assign the closest element to 0 the same cluster id"
   ]
  },
  {
   "cell_type": "code",
   "execution_count": 38,
   "id": "39f42598-f9e6-4cad-8e8a-16cdea42ff8e",
   "metadata": {},
   "outputs": [],
   "source": []
  },
  {
   "cell_type": "code",
   "execution_count": 35,
   "id": "0842bc89-2b2e-4e95-ba26-e4f52781ca25",
   "metadata": {},
   "outputs": [],
   "source": [
    "# Get new data consists of the mean of the first cluster and the rest\n",
    "x = np.append([(data['x'][0] + data['x'][idx]) / 2], np.delete(x, [0, idx]))"
   ]
  },
  {
   "cell_type": "code",
   "execution_count": null,
   "id": "f3fc9c14-6f1d-404a-af11-5382ab09e89d",
   "metadata": {},
   "outputs": [],
   "source": [
    "# Reduce the cluster id \n",
    "#data['cluster'] = np.unique(data['cluster'])"
   ]
  },
  {
   "cell_type": "code",
   "execution_count": 43,
   "id": "d8e80e74-41ea-4fa6-84f3-78bc2ade8b92",
   "metadata": {},
   "outputs": [],
   "source": [
    "data['cluster'] = ['1|2', '1|2', '3' , '4']\n",
    "data['color'] = [0, 0, 2, 3]"
   ]
  },
  {
   "cell_type": "markdown",
   "id": "2184d094-b54a-4a8a-9865-cc3ec694486e",
   "metadata": {},
   "source": [
    "### Merging the first cluster"
   ]
  },
  {
   "cell_type": "code",
   "execution_count": 60,
   "id": "ed08b535-6dd3-4006-93f0-9b91014f4245",
   "metadata": {},
   "outputs": [
    {
     "data": {
      "image/png": "[encoded data removed]",
      "text/plain": [
       "<Figure size 1080x360 with 1 Axes>"
      ]
     },
     "metadata": {
      "needs_background": "light"
     },
     "output_type": "display_data"
    }
   ],
   "source": [
    "# Show the data set\n",
    "fig, ax = plt.subplots(figsize=(15,5))\n",
    "ax.scatter(data['x'], data['y'], s=100, marker='o', c=data['color'])\n",
    "\n",
    "for i, val in enumerate(data['x']):\n",
    "    \n",
    "    ax.text(val-0.2, 0.35, 'cluster: ' + str(data['cluster'][i]))\n",
    "    \n",
    "    #ax.plot([data['x'][0], data['x'][i]], [0.25-(i*0.5), 0.25-(i*0.5)], c='k', linestyle='--', alpha=0.2)\n",
    "    \n",
    "#ax.plot([1, 1], [0, 0.25-(i*0.5)], c='k', linestyle='--', alpha=0.2)\n",
    "\n",
    "e = patches.Ellipse((1.5, 0), 1.5, 0.2, linewidth=0.5, fill=True, alpha=0.2)\n",
    "e.set_facecolor(np.random.rand(3))\n",
    "\n",
    "ax.add_patch(e)\n",
    "\n",
    "ax.set_ylim([-2,1])\n",
    "ax.set_xlim([0,8])\n",
    "ax.get_yaxis().set_visible(False)\n",
    "fig.savefig('HAC_4.png', bbox_inches='tight', transparent=True)"
   ]
  },
  {
   "cell_type": "code",
   "execution_count": null,
   "id": "9cbeeed7-8d24-415b-85cb-bafbb9c60008",
   "metadata": {},
   "outputs": [],
   "source": []
  },
  {
   "cell_type": "markdown",
   "id": "8fd5e457-7b89-4362-bb75-7513a1634c1e",
   "metadata": {},
   "source": [
    "# Update distances"
   ]
  },
  {
   "cell_type": "code",
   "execution_count": null,
   "id": "b0ed7ed7-b2de-4814-890f-e62247c20fa8",
   "metadata": {},
   "outputs": [],
   "source": [
    "### Dendrogram"
   ]
  },
  {
   "cell_type": "code",
   "execution_count": null,
   "id": "6c50fb99-b2c5-472b-896d-c98d796463b7",
   "metadata": {},
   "outputs": [],
   "source": [
    "# Show the data set\n",
    "fig, ax = plt.subplots(figsize=(15,5))\n",
    "ax.scatter(data['x'], data['y'], s=100, marker='o', c=data['cluster'])\n",
    "\n",
    "for i, val in enumerate(data['x']):\n",
    "    if i == 0:\n",
    "        ax.plot([val, val], [0, -0.25-(i*0.5)], c='k', linestyle='--', alpha=0.2)\n",
    "    else:   \n",
    "        ax.plot([val, val], [0, 0.25-(i*0.5)], c='k', linestyle='--', alpha=0.2)\n",
    "        ax.text((1.25 + distances[i]//2) , 0.25-(i*0.45) , 'distance: ' + str(distances[i]))\n",
    "\n",
    "    \n",
    "    ax.text(val-0.2, 0.35, 'cluster: ' + str(data['cluster'][i]))\n",
    "    \n",
    "    ax.plot([data['x'][0], data['x'][i]], [0.25-(i*0.5), 0.25-(i*0.5)], c='k', linestyle='--', alpha=0.2)\n",
    "    \n",
    "ax.plot([1, 1], [0, 0.25-(i*0.5)], c='k', linestyle='--', alpha=0.2)\n",
    "ax.set_ylim([-2,1])\n",
    "ax.set_xlim([0,8])\n",
    "ax.get_yaxis().set_visible(False)\n",
    "fig.savefig('HAC_4.png', bbox_inches='tight', transparent=True)"
   ]
  },
  {
   "cell_type": "code",
   "execution_count": null,
   "id": "ab23bc7a-4112-4498-b696-ea835db948cd",
   "metadata": {},
   "outputs": [],
   "source": [
    "distances, idx = prox_mtx(x)\n",
    "print(idx)"
   ]
  },
  {
   "cell_type": "code",
   "execution_count": null,
   "id": "ea34d13a-fb8e-44eb-8dad-2ac320f35bb3",
   "metadata": {},
   "outputs": [],
   "source": [
    "min_idx = np.nanargmin(np.abs(np.subtract(distances, distances)))"
   ]
  },
  {
   "cell_type": "code",
   "execution_count": null,
   "id": "57ddd8de-1562-4ffa-b23e-f14428c93ce7",
   "metadata": {},
   "outputs": [],
   "source": [
    "min_idx"
   ]
  },
  {
   "cell_type": "code",
   "execution_count": null,
   "id": "c7f14fa9-7ab8-4528-b75f-c207dc3f6da1",
   "metadata": {},
   "outputs": [],
   "source": [
    "n_c = cl_id.size\n",
    "i = 0\n",
    "while n_c != 0: \n",
    "    # Find the closest points in the array\n",
    "    \n",
    "    \n",
    "    \n",
    "    print(n_c)\n",
    "    n_c -= 1\n",
    "    i += 1"
   ]
  },
  {
   "cell_type": "code",
   "execution_count": null,
   "id": "2ceb9e70-92fb-468c-81d5-9c1413fca620",
   "metadata": {},
   "outputs": [],
   "source": [
    "class data_2d(): \n",
    "    def __init__(self, x=0, y=0, cluster=0): \n",
    "        self.x = x\n",
    "        self.y = y\n",
    "        self.cluster = cluster\n",
    "        \n",
    "    def get_distance(p1, p2, method='euclidean'):\n",
    "        if method.lower() == 'euclidean':\n",
    "            return (p1.x - p2.x) * (p1.x - p2.x) + (p1.y - p2.y) * (p1.y - p2.y)\n",
    "        else: \n",
    "            pass\n",
    "        \n",
    "    def get_closest_center(p, cluster, min_dist=1e100):\n",
    "        min_idx = p.group\n",
    "        for idx, center in enumerate(cluster):\n",
    "            dist = get_distance(p, center)\n",
    "            if (dist < min_dist):\n",
    "                min_dist = dist\n",
    "                min_idx = idx\n",
    "        return (min_idx, min_dist)\n",
    "    \n",
    "    def kMeansPlusPlus(points, clusterCenterGroup):\n",
    "        clusterCenterGroup[0] = copy.copy(random.choice(points))\n",
    "        distanceGroup = [0.0 for _ in xrange(len(points))]\n",
    "        sum = 0.0\n",
    "        for index in xrange(1, len(clusterCenterGroup)):\n",
    "            for i, point in enumerate(points):\n",
    "                distanceGroup[i] = getNearestCenter(point, clusterCenterGroup[:index])[1]\n",
    "                sum += distanceGroup[i]\n",
    "            sum *= random.random()\n",
    "            for i, distance in enumerate(distanceGroup):\n",
    "                sum -= distance;\n",
    "                if sum < 0:\n",
    "                    clusterCenterGroup[index] = copy.copy(points[i])\n",
    "                    break\n",
    "        for point in points:\n",
    "            point.group = getNearestCenter(point, clusterCenterGroup)[0]\n",
    "        return"
   ]
  },
  {
   "cell_type": "code",
   "execution_count": null,
   "id": "ea493dd9-5a1f-44d0-bc03-59d299148d71",
   "metadata": {},
   "outputs": [],
   "source": [
    "class Point:\n",
    "\t__slots__ = [\"x\", \"y\", \"group\"]\n",
    "\tdef __init__(self, x = 0, y = 0, group = 0):\n",
    "\t\tself.x, self.y, self.group = x, y, group\n",
    "\n",
    "def generatePoints(pointsNumber, radius):\n",
    "\tpoints = [Point() for _ in xrange(pointsNumber)]\n",
    "\tfor point in points:\n",
    "\t\tr = random.random() * radius\n",
    "\t\tangle = random.random() * 2 * math.pi\n",
    "\t\tpoint.x = r * math.cos(angle)\n",
    "\t\tpoint.y = r * math.sin(angle)\n",
    "\treturn points\n",
    "\n",
    "\n",
    "def solveDistanceBetweenPoints(pointA, pointB):\n",
    "\treturn (pointA.x - pointB.x) * (pointA.x - pointB.x) + (pointA.y - pointB.y) * (pointA.y - pointB.y)\n",
    "\n",
    "def getNearestCenter(point, clusterCenterGroup):\n",
    "\tminIndex = point.group\n",
    "\tminDistance = FLOAT_MAX\n",
    "\tfor index, center in enumerate(clusterCenterGroup):\n",
    "\t\tdistance = solveDistanceBetweenPoints(point, center)\n",
    "\t\tif (distance < minDistance):\n",
    "\t\t\tminDistance = distance\n",
    "\t\t\tminIndex = index\n",
    "\treturn (minIndex, minDistance)\n",
    "\n",
    "def kMeansPlusPlus(points, clusterCenterGroup):\n",
    "\tclusterCenterGroup[0] = copy.copy(random.choice(points))\n",
    "\tdistanceGroup = [0.0 for _ in xrange(len(points))]\n",
    "\tsum = 0.0\n",
    "\tfor index in xrange(1, len(clusterCenterGroup)):\n",
    "\t\tfor i, point in enumerate(points):\n",
    "\t\t\tdistanceGroup[i] = getNearestCenter(point, clusterCenterGroup[:index])[1]\n",
    "\t\t\tsum += distanceGroup[i]\n",
    "\t\tsum *= random.random()\n",
    "\t\tfor i, distance in enumerate(distanceGroup):\n",
    "\t\t\tsum -= distance;\n",
    "\t\t\tif sum < 0:\n",
    "\t\t\t\tclusterCenterGroup[index] = copy.copy(points[i])\n",
    "\t\t\t\tbreak\n",
    "\tfor point in points:\n",
    "\t\tpoint.group = getNearestCenter(point, clusterCenterGroup)[0]\n",
    "\treturn\n",
    "\n",
    "def kMeans(points, clusterCenterNumber):\n",
    "\tclusterCenterGroup = [Point() for _ in xrange(clusterCenterNumber)]\n",
    "\tkMeansPlusPlus(points, clusterCenterGroup)\n",
    "\tclusterCenterTrace = [[clusterCenter] for clusterCenter in clusterCenterGroup]\n",
    "\ttolerableError, currentError = 5.0, FLOAT_MAX\n",
    "\tcount = 0\n",
    "\twhile currentError >= tolerableError:\n",
    "\t\tcount += 1\n",
    "\t\tcountCenterNumber = [0 for _ in xrange(clusterCenterNumber)]\n",
    "\t\tcurrentCenterGroup = [Point() for _ in xrange(clusterCenterNumber)]\n",
    "\t\tfor point in points:\n",
    "\t\t\tcurrentCenterGroup[point.group].x += point.x\n",
    "\t\t\tcurrentCenterGroup[point.group].y += point.y\n",
    "\t\t\tcountCenterNumber[point.group] += 1\n",
    "\t\tfor index, center in enumerate(currentCenterGroup):\n",
    "\t\t\tcenter.x /= countCenterNumber[index]\n",
    "\t\t\tcenter.y /= countCenterNumber[index]\n",
    "\t\tcurrentError = 0.0\n",
    "\t\tfor index, singleTrace in enumerate(clusterCenterTrace):\n",
    "\t\t\tsingleTrace.append(currentCenterGroup[index])\n",
    "\t\t\tcurrentError += solveDistanceBetweenPoints(singleTrace[-1], singleTrace[-2])\n",
    "\t\t\tclusterCenterGroup[index] = copy.copy(currentCenterGroup[index])\n",
    "\t\tfor point in points:\n",
    "\t\t\tpoint.group = getNearestCenter(point, clusterCenterGroup)[0]\n",
    "\treturn clusterCenterGroup, clusterCenterTrace\n",
    "\n",
    "def showClusterAnalysisResults(points, clusterCenterTrace):\n",
    "\tcolorStore = ['or', 'og', 'ob', 'oc', 'om', 'oy', 'ok']\n",
    "\tpylab.figure(figsize=(9, 9), dpi = 80)\n",
    "\tfor point in points:\n",
    "\t\tcolor = ''\n",
    "\t\tif point.group >= len(colorStore):\n",
    "\t\t\tcolor = colorStore[-1]\n",
    "\t\telse:\n",
    "\t\t\tcolor = colorStore[point.group]\n",
    "\t\tpylab.plot(point.x, point.y, color)\n",
    "\tfor singleTrace in clusterCenterTrace:\n",
    "\t\tpylab.plot([center.x for center in singleTrace], [center.y for center in singleTrace], 'k')\n",
    "\tpylab.show()\n",
    "\n",
    "def main():\n",
    "\tclusterCenterNumber = 5\n",
    "\tpointsNumber = 2000\n",
    "\tradius = 10\n",
    "\tpoints = generatePoints(pointsNumber, radius)\n",
    "\t_, clusterCenterTrace = kMeans(points, clusterCenterNumber)\n",
    "\tshowClusterAnalysisResults(points, clusterCenterTrace)"
   ]
  }
 ],
 "metadata": {
  "kernelspec": {
   "display_name": "Python 3",
   "language": "python",
   "name": "python3"
  },
  "language_info": {
   "codemirror_mode": {
    "name": "ipython",
    "version": 3
   },
   "file_extension": ".py",
   "mimetype": "text/x-python",
   "name": "python",
   "nbconvert_exporter": "python",
   "pygments_lexer": "ipython3",
   "version": "3.9.2"
  }
 },
 "nbformat": 4,
 "nbformat_minor": 5
}
