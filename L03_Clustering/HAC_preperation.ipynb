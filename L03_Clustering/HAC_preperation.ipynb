{
 "cells": [
  {
   "cell_type": "code",
   "execution_count": 47,
   "id": "14537250-cdf9-4da3-a42a-d73b859d9ec0",
   "metadata": {},
   "outputs": [],
   "source": [
    "import numpy as np\n",
    "import pandas as pd\n",
    "import matplotlib.pyplot as plt\n",
    "from matplotlib import patches"
   ]
  },
  {
   "cell_type": "code",
   "execution_count": 109,
   "id": "03a2f2ed-8df4-451d-8f9b-0b31dc8a4b50",
   "metadata": {},
   "outputs": [],
   "source": [
    "# Define sample data set\n",
    "x = np.array([1, 2, 5, 7])\n",
    "\n",
    "data = {'x': x, \n",
    "        'y': np.zeros(x.size),\n",
    "        'cluster': np.arange(x.size) + 1, \n",
    "        'color': np.arange(x.size)}"
   ]
  },
  {
   "cell_type": "markdown",
   "id": "687b6cc3-535b-491c-8cc9-e21b095b8d88",
   "metadata": {},
   "source": [
    "# Clustering\n",
    "## Hierarchical Clustering\n",
    "### Hierarchical Agglomerative Clustering"
   ]
  },
  {
   "cell_type": "code",
   "execution_count": 110,
   "id": "cdaf5315-07f2-4952-b1d2-a1e2dbf03f96",
   "metadata": {},
   "outputs": [
    {
     "data": {
      "image/png": "[encoded data removed]",
      "text/plain": [
       "<Figure size 1080x360 with 1 Axes>"
      ]
     },
     "metadata": {
      "needs_background": "light"
     },
     "output_type": "display_data"
    }
   ],
   "source": [
    "# Show the data set\n",
    "fig, ax = plt.subplots(figsize=(15,5))\n",
    "ax.scatter(data['x'], data['y'], s=100, marker='o', c=data['color']) #  edgecolors='#DB5461',\n",
    "\n",
    "for i in range(0,len(data['x'])):\n",
    "    ax.plot([data['x'][i], data['x'][i]], [0.15, 0.25], c='k', linestyle='--', alpha=0.2)\n",
    "    ax.text(data['x'][i]-0.2, 0.35, 'cluster: ' + str(data['cluster'][i]))\n",
    "ax.set_ylim([-2,1])\n",
    "ax.set_xlim([0,8])\n",
    "ax.get_yaxis().set_visible(False)\n",
    "fig.savefig('HAC_2.png', bbox_inches='tight', transparent=True)"
   ]
  },
  {
   "cell_type": "code",
   "execution_count": 111,
   "id": "53e6ef1e-8541-4dad-b5c6-8452c37c3140",
   "metadata": {},
   "outputs": [],
   "source": [
    "def prox_mtx(x):\n",
    "    \"\"\"\n",
    "    # Get all combinations from a 1d-array by using a small hack\n",
    "    m, n = np.meshgrid(data['x'], data['x'])\n",
    "    # Based on all combinations, we determine the difference. Thus, we get a distance, or proximity matrix\n",
    "    D = np.triu(np.abs(m-n))\n",
    "    \"\"\"\n",
    "    mtx = np.triu(np.abs(x[..., np.newaxis] - x))\n",
    "    return mtx, np.nanargmin(np.where(mtx != 0, mtx, np.nan).ravel())"
   ]
  },
  {
   "cell_type": "code",
   "execution_count": 112,
   "id": "fd714f00-7f21-48af-bfd7-005b28beb62d",
   "metadata": {},
   "outputs": [
    {
     "name": "stdout",
     "output_type": "stream",
     "text": [
      "[0 1 4 6]\n"
     ]
    }
   ],
   "source": [
    "distances, idx = prox_mtx(data['x'])\n",
    "distances = distances[0,:]\n",
    "print(distances)"
   ]
  },
  {
   "cell_type": "code",
   "execution_count": 32,
   "id": "d899c67a-7f57-40b4-80f2-f07ec267717f",
   "metadata": {},
   "outputs": [
    {
     "data": {
      "image/png": "[encoded data removed]",
      "text/plain": [
       "<Figure size 1080x360 with 1 Axes>"
      ]
     },
     "metadata": {
      "needs_background": "light"
     },
     "output_type": "display_data"
    }
   ],
   "source": [
    "# Show the data set\n",
    "fig, ax = plt.subplots(figsize=(15,5))\n",
    "ax.scatter(data['x'], data['y'], s=100, marker='o', c=data['color'])\n",
    "\n",
    "for i, val in enumerate(data['x']):\n",
    "    if i == 0:\n",
    "        ax.plot([val, val], [0, -0.25-(i*0.5)], c='k', linestyle='--', alpha=0.2)\n",
    "    else:   \n",
    "        ax.plot([val, val], [0, 0.25-(i*0.5)], c='k', linestyle='--', alpha=0.2)\n",
    "        ax.text((1.25 + distances[i]//2) , 0.25-(i*0.45) , 'distance: ' + str(distances[i]))\n",
    "\n",
    "    \n",
    "    ax.text(val-0.2, 0.35, 'cluster: ' + str(data['cluster'][i]))\n",
    "    \n",
    "    ax.plot([data['x'][0], data['x'][i]], [0.25-(i*0.5), 0.25-(i*0.5)], c='k', linestyle='--', alpha=0.2)\n",
    "    \n",
    "ax.plot([1, 1], [0, 0.25-(i*0.5)], c='k', linestyle='--', alpha=0.2)\n",
    "ax.set_ylim([-2,1])\n",
    "ax.set_xlim([0,8])\n",
    "ax.get_yaxis().set_visible(False)\n",
    "fig.savefig('HAC_3.png', bbox_inches='tight', transparent=True)"
   ]
  },
  {
   "cell_type": "code",
   "execution_count": 33,
   "id": "c9b3e264-d8b2-4984-be1d-1662a76741d2",
   "metadata": {},
   "outputs": [],
   "source": [
    "# Assign the closest element to 0 the same cluster id"
   ]
  },
  {
   "cell_type": "code",
   "execution_count": 38,
   "id": "39f42598-f9e6-4cad-8e8a-16cdea42ff8e",
   "metadata": {},
   "outputs": [],
   "source": []
  },
  {
   "cell_type": "code",
   "execution_count": 35,
   "id": "0842bc89-2b2e-4e95-ba26-e4f52781ca25",
   "metadata": {},
   "outputs": [],
   "source": [
    "# Get new data consists of the mean of the first cluster and the rest\n",
    "x = np.append([(data['x'][0] + data['x'][idx]) / 2], np.delete(x, [0, idx]))"
   ]
  },
  {
   "cell_type": "code",
   "execution_count": null,
   "id": "f3fc9c14-6f1d-404a-af11-5382ab09e89d",
   "metadata": {},
   "outputs": [],
   "source": [
    "# Reduce the cluster id \n",
    "#data['cluster'] = np.unique(data['cluster'])"
   ]
  },
  {
   "cell_type": "code",
   "execution_count": 43,
   "id": "d8e80e74-41ea-4fa6-84f3-78bc2ade8b92",
   "metadata": {},
   "outputs": [],
   "source": [
    "data['cluster'] = ['1|2', '1|2', '3' , '4']\n",
    "data['color'] = [0, 0, 2, 3]"
   ]
  },
  {
   "cell_type": "markdown",
   "id": "2184d094-b54a-4a8a-9865-cc3ec694486e",
   "metadata": {},
   "source": [
    "### Merging the first cluster"
   ]
  },
  {
   "cell_type": "code",
   "execution_count": 73,
   "id": "ed08b535-6dd3-4006-93f0-9b91014f4245",
   "metadata": {},
   "outputs": [
    {
     "data": {
      "image/png": "[encoded data removed]",
      "text/plain": [
       "<Figure size 1080x360 with 1 Axes>"
      ]
     },
     "metadata": {
      "needs_background": "light"
     },
     "output_type": "display_data"
    }
   ],
   "source": [
    "# Show the data set\n",
    "fig, ax = plt.subplots(figsize=(15,5))\n",
    "ax.scatter(data['x'], data['y'], s=100, marker='o', c=data['color'])\n",
    "\n",
    "for i, val in enumerate(data['x']):\n",
    "    \n",
    "    ax.text(val-0.2, 0.35, 'cluster: ' + str(data['cluster'][i]))\n",
    "    \n",
    "    #ax.plot([data['x'][0], data['x'][i]], [0.25-(i*0.5), 0.25-(i*0.5)], c='k', linestyle='--', alpha=0.2)\n",
    "    \n",
    "#ax.plot([1, 1], [0, 0.25-(i*0.5)], c='k', linestyle='--', alpha=0.2)\n",
    "\n",
    "e = patches.Ellipse((1.5, 0), 1.5, 0.2, linewidth=0.5, fill=True, alpha=0.2)\n",
    "e.set_facecolor([0.18728872, 0.77332671, 0.61644898])\n",
    "\n",
    "ax.add_patch(e)\n",
    "\n",
    "ax.set_ylim([-2,1])\n",
    "ax.set_xlim([0,8])\n",
    "ax.get_yaxis().set_visible(False)\n",
    "fig.savefig('HAC_4.png', bbox_inches='tight', transparent=True)"
   ]
  },
  {
   "cell_type": "code",
   "execution_count": 74,
   "id": "fbfebc97-df91-4a80-aaad-10c6240de0bb",
   "metadata": {},
   "outputs": [],
   "source": [
    "data['cluster'] = ['1|2', '1|2', '3|4' , '3|4']\n",
    "data['color'] = [0, 0, 2, 2]"
   ]
  },
  {
   "cell_type": "code",
   "execution_count": 75,
   "id": "9cbeeed7-8d24-415b-85cb-bafbb9c60008",
   "metadata": {},
   "outputs": [
    {
     "data": {
      "image/png": "[encoded data removed]",
      "text/plain": [
       "<Figure size 1080x360 with 1 Axes>"
      ]
     },
     "metadata": {
      "needs_background": "light"
     },
     "output_type": "display_data"
    }
   ],
   "source": [
    "# Show the data set\n",
    "fig, ax = plt.subplots(figsize=(15,5))\n",
    "ax.scatter(data['x'], data['y'], s=100, marker='o', c=data['color'])\n",
    "\n",
    "for i, val in enumerate(data['x']):\n",
    "    \n",
    "    ax.text(val-0.2, 0.35, 'cluster: ' + str(data['cluster'][i]))\n",
    "    \n",
    "    #ax.plot([data['x'][0], data['x'][i]], [0.25-(i*0.5), 0.25-(i*0.5)], c='k', linestyle='--', alpha=0.2)\n",
    "    \n",
    "#ax.plot([1, 1], [0, 0.25-(i*0.5)], c='k', linestyle='--', alpha=0.2)\n",
    "\n",
    "e = patches.Ellipse((1.5, 0), 1.5, 0.2, linewidth=0.5, fill=True, alpha=0.2)\n",
    "e.set_facecolor([0.18728872, 0.77332671, 0.61644898])\n",
    "ax.add_patch(e)\n",
    "\n",
    "e = patches.Ellipse((6, 0), 2.5, 0.2, linewidth=0.5, fill=True, alpha=0.2)\n",
    "e.set_facecolor([0.19, 0.25, 0.62])\n",
    "ax.add_patch(e)\n",
    "\n",
    "ax.set_ylim([-2,1])\n",
    "ax.set_xlim([0,8])\n",
    "ax.get_yaxis().set_visible(False)\n",
    "fig.savefig('HAC_5.png', bbox_inches='tight', transparent=True)"
   ]
  },
  {
   "cell_type": "code",
   "execution_count": 126,
   "id": "8fbf8197-6d4b-4616-b35b-f00dc8f97b34",
   "metadata": {},
   "outputs": [],
   "source": [
    "data['cluster'] = ['1|4', '1|4', '1|4' , '1|4']\n",
    "data['color'] = [5, 5, 5, 5]"
   ]
  },
  {
   "cell_type": "code",
   "execution_count": 127,
   "id": "96647832-139e-4231-9ff3-db452e7799e2",
   "metadata": {},
   "outputs": [
    {
     "data": {
      "image/png": "[encoded data removed]",
      "text/plain": [
       "<Figure size 1080x360 with 1 Axes>"
      ]
     },
     "metadata": {
      "needs_background": "light"
     },
     "output_type": "display_data"
    }
   ],
   "source": [
    "# Show the data set\n",
    "fig, ax = plt.subplots(figsize=(15,5))\n",
    "ax.scatter(data['x'], data['y'], s=100, marker='o', c=data['color'])\n",
    "\n",
    "for i, val in enumerate(data['x']):\n",
    "    \n",
    "    ax.text(val-0.2, 0.35, 'cluster: ' + str(data['cluster'][i]))\n",
    "\n",
    "e = patches.Ellipse((1.5, 0), 1.5, 0.2, linewidth=0.5, fill=True, alpha=0.2)\n",
    "e.set_facecolor([0.18728872, 0.77332671, 0.61644898])\n",
    "ax.add_patch(e)\n",
    "\n",
    "e = patches.Ellipse((6, 0), 2.5, 0.2, linewidth=0.5, fill=True, alpha=0.2)\n",
    "e.set_facecolor([0.19, 0.25, 0.62])\n",
    "ax.add_patch(e)\n",
    "\n",
    "e = patches.Ellipse((3.75, -0.01), 4.5, 1, linewidth=0.5, fill=True, alpha=0.2)\n",
    "e.set_facecolor([0.19, 0.25, 0.22])\n",
    "ax.add_patch(e)\n",
    "\n",
    "ax.set_ylim([-2,1])\n",
    "ax.set_xlim([0,8])\n",
    "ax.get_yaxis().set_visible(False)\n",
    "fig.savefig('HAC_6.png', bbox_inches='tight', transparent=True)"
   ]
  },
  {
   "cell_type": "markdown",
   "id": "8fd5e457-7b89-4362-bb75-7513a1634c1e",
   "metadata": {},
   "source": [
    "# Dendrogram"
   ]
  },
  {
   "cell_type": "code",
   "execution_count": 135,
   "id": "b0ed7ed7-b2de-4814-890f-e62247c20fa8",
   "metadata": {},
   "outputs": [],
   "source": [
    "from scipy.cluster.hierarchy import dendrogram, linkage\n",
    "from matplotlib import pyplot as plt\n",
    "\n",
    "distances, _ = prox_mtx(data['x'])\n",
    "\n",
    "linked = linkage(distances, 'complete')"
   ]
  },
  {
   "cell_type": "code",
   "execution_count": 142,
   "id": "cd18c6a0-9319-4b58-ac96-ce2964b3ac7e",
   "metadata": {},
   "outputs": [
    {
     "data": {
      "image/png": "[encoded data removed]",
      "text/plain": [
       "<Figure size 1080x360 with 1 Axes>"
      ]
     },
     "metadata": {
      "needs_background": "light"
     },
     "output_type": "display_data"
    }
   ],
   "source": [
    "labelList = range(1, 11)\n",
    "\n",
    "fig, ax = plt.subplots(figsize=(15,5))\n",
    "dendrogram(linked)\n",
    "ax.set_xticklabels(np.arange(x.size)+1)\n",
    "#ax.get_yaxis().set_visible(False)\n",
    "ax.set_xlabel('Cluster')\n",
    "ax.set_ylabel('Distance')\n",
    "fig.savefig('HAC_7.png', bbox_inches='tight', transparent=True)"
   ]
  },
  {
   "cell_type": "code",
   "execution_count": 90,
   "id": "42ccb425-1bce-4089-a119-1816495fe1f6",
   "metadata": {},
   "outputs": [
    {
     "data": {
      "text/plain": [
       "array([1.5, 5. , 7. ])"
      ]
     },
     "execution_count": 90,
     "metadata": {},
     "output_type": "execute_result"
    }
   ],
   "source": [
    "x"
   ]
  },
  {
   "cell_type": "code",
   "execution_count": null,
   "id": "fcb7e806-74db-4358-86f9-9e2300c7a215",
   "metadata": {},
   "outputs": [],
   "source": []
  }
 ],
 "metadata": {
  "kernelspec": {
   "display_name": "Python 3",
   "language": "python",
   "name": "python3"
  },
  "language_info": {
   "codemirror_mode": {
    "name": "ipython",
    "version": 3
   },
   "file_extension": ".py",
   "mimetype": "text/x-python",
   "name": "python",
   "nbconvert_exporter": "python",
   "pygments_lexer": "ipython3",
   "version": "3.9.2"
  }
 },
 "nbformat": 4,
 "nbformat_minor": 5
}
