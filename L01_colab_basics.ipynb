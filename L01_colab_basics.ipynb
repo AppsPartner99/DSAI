{
  "nbformat": 4,
  "nbformat_minor": 0,
  "metadata": {
    "colab": {
      "name": "Untitled0.ipynb",
      "provenance": [],
      "collapsed_sections": [],
      "toc_visible": true,
      "authorship_tag": "ABX9TyPFJSZs1sL7kLqsYLJ3/HWR",
      "include_colab_link": true
    },
    "kernelspec": {
      "name": "python3",
      "display_name": "Python 3"
    },
    "language_info": {
      "name": "python"
    }
  },
  "cells": [
    {
      "cell_type": "markdown",
      "metadata": {
        "id": "view-in-github",
        "colab_type": "text"
      },
      "source": [
        "<a href=\"https://colab.research.google.com/github/lnxdxC/DSKI/blob/main/L01_colab_basics.ipynb\" target=\"_parent\"><img src=\"https://colab.research.google.com/assets/colab-badge.svg\" alt=\"Open In Colab\"/></a>"
      ]
    },
    {
      "cell_type": "markdown",
      "source": [
        "# First heading, using markdown-syntax"
      ],
      "metadata": {
        "id": "iLF0yPjJLcAn"
      }
    },
    {
      "cell_type": "markdown",
      "source": [
        "You can easily write notes, describe your code or show equations by using LaTeX\n",
        "\n",
        "\\begin{align}\n",
        "  e^{i \\pi} + 1 = 0\n",
        "\\end{align}"
      ],
      "metadata": {
        "id": "DI9hbLHuJt6m"
      }
    },
    {
      "cell_type": "code",
      "source": [
        "print('hello world!')"
      ],
      "metadata": {
        "colab": {
          "base_uri": "https://localhost:8080/"
        },
        "id": "tgmM9dcIJtqr",
        "outputId": "347e7cc8-65bb-499d-a51d-4d97bc7bd2da"
      },
      "execution_count": 4,
      "outputs": [
        {
          "output_type": "stream",
          "name": "stdout",
          "text": [
            "hello world!\n"
          ]
        }
      ]
    },
    {
      "cell_type": "markdown",
      "source": [
        "## Declaring a variable"
      ],
      "metadata": {
        "id": "f5GxMgkAMCuy"
      }
    },
    {
      "cell_type": "code",
      "source": [
        "var = 42\n",
        "print(var)"
      ],
      "metadata": {
        "colab": {
          "base_uri": "https://localhost:8080/"
        },
        "id": "BxT2I2K9MJrM",
        "outputId": "8e11be98-b951-474d-a584-9c4ebd313209"
      },
      "execution_count": 6,
      "outputs": [
        {
          "output_type": "stream",
          "name": "stdout",
          "text": [
            "42\n"
          ]
        }
      ]
    },
    {
      "cell_type": "markdown",
      "source": [
        "### Floating point"
      ],
      "metadata": {
        "id": "NdO-CmZ7LrOO"
      }
    },
    {
      "cell_type": "code",
      "source": [
        "f_var = 4.2"
      ],
      "metadata": {
        "id": "CGzU1purKS0t"
      },
      "execution_count": 7,
      "outputs": []
    },
    {
      "cell_type": "code",
      "source": [
        ""
      ],
      "metadata": {
        "id": "9ySs-6m5NNhW"
      },
      "execution_count": null,
      "outputs": []
    }
  ]
}