{
 "cells": [
  {
   "cell_type": "code",
   "execution_count": 1,
   "id": "20c6a69d-4b4f-4a2b-869a-3c37902ca87f",
   "metadata": {},
   "outputs": [],
   "source": [
    "import pandas as pd\n",
    "\n",
    "# Read the data\n",
    "df = pd.read_csv('data/grades.csv')"
   ]
  },
  {
   "cell_type": "code",
   "execution_count": 2,
   "id": "4db92f13-4e71-45ef-a8f9-393abf32e224",
   "metadata": {},
   "outputs": [
    {
     "data": {
      "text/html": [
       "<div>\n",
       "<style scoped>\n",
       "    .dataframe tbody tr th:only-of-type {\n",
       "        vertical-align: middle;\n",
       "    }\n",
       "\n",
       "    .dataframe tbody tr th {\n",
       "        vertical-align: top;\n",
       "    }\n",
       "\n",
       "    .dataframe thead th {\n",
       "        text-align: right;\n",
       "    }\n",
       "</style>\n",
       "<table border=\"1\" class=\"dataframe\">\n",
       "  <thead>\n",
       "    <tr style=\"text-align: right;\">\n",
       "      <th></th>\n",
       "      <th>Exam Points</th>\n",
       "      <th>Grade</th>\n",
       "      <th>Absolute frequency</th>\n",
       "    </tr>\n",
       "  </thead>\n",
       "  <tbody>\n",
       "    <tr>\n",
       "      <th>0</th>\n",
       "      <td>0-20</td>\n",
       "      <td>5</td>\n",
       "      <td>57</td>\n",
       "    </tr>\n",
       "    <tr>\n",
       "      <th>1</th>\n",
       "      <td>20-30</td>\n",
       "      <td>4</td>\n",
       "      <td>93</td>\n",
       "    </tr>\n",
       "    <tr>\n",
       "      <th>2</th>\n",
       "      <td>30-37</td>\n",
       "      <td>3</td>\n",
       "      <td>92</td>\n",
       "    </tr>\n",
       "    <tr>\n",
       "      <th>3</th>\n",
       "      <td>37-46</td>\n",
       "      <td>2</td>\n",
       "      <td>29</td>\n",
       "    </tr>\n",
       "    <tr>\n",
       "      <th>4</th>\n",
       "      <td>46-51</td>\n",
       "      <td>1</td>\n",
       "      <td>3</td>\n",
       "    </tr>\n",
       "  </tbody>\n",
       "</table>\n",
       "</div>"
      ],
      "text/plain": [
       "  Exam Points  Grade  Absolute frequency\n",
       "0        0-20      5                  57\n",
       "1       20-30      4                  93\n",
       "2       30-37      3                  92\n",
       "3       37-46      2                  29\n",
       "4       46-51      1                   3"
      ]
     },
     "execution_count": 2,
     "metadata": {},
     "output_type": "execute_result"
    }
   ],
   "source": [
    "df.head()"
   ]
  },
  {
   "cell_type": "code",
   "execution_count": 15,
   "id": "8eb90a32-8632-4ec5-92bd-ecaa69dee416",
   "metadata": {},
   "outputs": [],
   "source": [
    "df = df.rename({'Absolute frequency': 'n_c'}, axis=1)"
   ]
  },
  {
   "cell_type": "markdown",
   "id": "02c52515-baf1-47ed-98cf-4769bf2f3b3b",
   "metadata": {},
   "source": [
    "## Determine the class width $ w_c = x_c^u - x_c^l $  for each class\n"
   ]
  },
  {
   "cell_type": "code",
   "execution_count": 12,
   "id": "2edaa40c-e17e-409c-a037-0b4e54db4103",
   "metadata": {},
   "outputs": [],
   "source": [
    "df[['x_l','x_u']] = df['Exam Points'].str.split('-',expand=True).astype(float)\n",
    "df['w'] = df['x_u'] - df['x_l']"
   ]
  },
  {
   "cell_type": "markdown",
   "id": "03eee883-2fb2-4c34-af26-7bde95a59684",
   "metadata": {},
   "source": [
    "## Determine the relative frequency $f_{r, c} = \\frac{n_c}{n}$ of each class"
   ]
  },
  {
   "cell_type": "code",
   "execution_count": 16,
   "id": "2fa7f719-f391-408e-b39d-ababcb206693",
   "metadata": {},
   "outputs": [],
   "source": [
    "df['f_r'] = df['n_c'] / df['n_c'].sum()"
   ]
  },
  {
   "cell_type": "markdown",
   "id": "499cfa21-2787-4781-8256-1a5e6572f6af",
   "metadata": {},
   "source": [
    "## Determine the frequency densities $ d_{c} = \\frac{f_{r, c}}{w_c} $"
   ]
  },
  {
   "cell_type": "code",
   "execution_count": 18,
   "id": "8ce51b87-97a8-4acc-9697-d44387beaa48",
   "metadata": {},
   "outputs": [],
   "source": [
    "df['d'] = df['f_r'] / df['w']"
   ]
  },
  {
   "cell_type": "markdown",
   "id": "d061fd63-36b6-46ea-8cff-bb65c3417904",
   "metadata": {},
   "source": [
    "## Let us determine the mode using: $ x_\\text{mod} =x_{M}^{l}+{\\frac {d_{M}-d_{M-1}}{2\\,d_{M}-d_{M-1}-d_{M+1}}}(x_{M}^{u}-x_{M}^{l}) $\n"
   ]
  },
  {
   "cell_type": "code",
   "execution_count": 36,
   "id": "a8c27c98-b1a9-43b0-b6af-f4b31ca4a340",
   "metadata": {},
   "outputs": [],
   "source": [
    "mci = df['d'].argmax()  # mci = modal_class_idx\n",
    "mod = df['x_l'][mci] + ((df.d[mci] - df.d[mci-1]) / (2 * df.d[mci] - df.d[mci-1] - df.d[mci+1])) * (df['x_u'][mci] - df['x_l'][mci])"
   ]
  },
  {
   "cell_type": "code",
   "execution_count": 39,
   "id": "6098f512-a3a5-4b2b-899a-98a757266059",
   "metadata": {},
   "outputs": [
    {
     "data": {
      "text/plain": [
       "31.95"
      ]
     },
     "execution_count": 39,
     "metadata": {},
     "output_type": "execute_result"
    }
   ],
   "source": [
    "mod.round(2)"
   ]
  },
  {
   "cell_type": "code",
   "execution_count": null,
   "id": "af6d5bcd-5a76-4506-a574-5eb5e4be84e1",
   "metadata": {},
   "outputs": [],
   "source": []
  }
 ],
 "metadata": {
  "kernelspec": {
   "display_name": "Python 3",
   "language": "python",
   "name": "python3"
  },
  "language_info": {
   "codemirror_mode": {
    "name": "ipython",
    "version": 3
   },
   "file_extension": ".py",
   "mimetype": "text/x-python",
   "name": "python",
   "nbconvert_exporter": "python",
   "pygments_lexer": "ipython3",
   "version": "3.9.2"
  }
 },
 "nbformat": 4,
 "nbformat_minor": 5
}
