{
 "cells": [
  {
   "cell_type": "markdown",
   "metadata": {
    "id": "NrLFcmC0JvYt"
   },
   "source": [
    "# L.1 Data types in Python 🐍"
   ]
  },
  {
   "attachments": {},
   "cell_type": "markdown",
   "metadata": {
    "id": "Wc-G0cKBPv8t"
   },
   "source": [
    "### L1.1.1 Single data types (Numbers, Strings, Bytes, Booleans)\n",
    "We want to store information (mainly numbers) in memory to access it for further processing. So that it makes sense to better understand the underlying structure. \n",
    "\n",
    "In Python, we:\n",
    "- Use variable without declaring them (lazy developers 👽) \n",
    "- Associativity : Left to right \n",
    "- Call by object reference (neither call by reference, nor call by value in general)\n",
    "- Do not have to deal with dereference etc. (compare to C++)\n",
    "- Use existing modules which are robust and well tested (prominent ones)"
   ]
  },
  {
   "cell_type": "markdown",
   "metadata": {},
   "source": [
    "#### Numbers (the most important basics)"
   ]
  },
  {
   "cell_type": "code",
   "execution_count": null,
   "metadata": {
    "colab": {
     "base_uri": "https://localhost:8080/"
    },
    "id": "bx70zF2AJv_C",
    "outputId": "4595e4e8-c3d5-4563-aee0-c94a23dbf20a"
   },
   "outputs": [],
   "source": [
    "# Integer\n",
    "a = 1  # assign the value 1 to the variable a\n",
    "b = 0x10\n",
    "print(type(b))\n",
    "\n",
    "# Floating point\n",
    "c = 1.0\n",
    "d = 5e-10\n",
    "e = 0.5\n",
    "print(type(e))\n",
    "\n",
    "# Complex\n",
    "f = 2+1j\n",
    "g = complex(1, 2)\n",
    "print(type(g))"
   ]
  },
  {
   "cell_type": "markdown",
   "metadata": {},
   "source": [
    "#### Strings (pathes, were to find the data, descibe something, for instance label of axis, ...)"
   ]
  },
  {
   "cell_type": "code",
   "execution_count": null,
   "metadata": {
    "colab": {
     "base_uri": "https://localhost:8080/"
    },
    "id": "4d-Pb881KHiv",
    "outputId": "b33aca3c-cd50-4234-e0cc-eb6047281bbc"
   },
   "outputs": [],
   "source": [
    "h = 'Hello world'\n",
    "print(type(h))\n",
    "raw_string = r'C:/Users\\\\DataScienceIsAwesome'"
   ]
  },
  {
   "cell_type": "markdown",
   "metadata": {},
   "source": [
    "#### Boolean to simply strore binary information (passed, failed, exists, flag, ...)"
   ]
  },
  {
   "cell_type": "code",
   "execution_count": null,
   "metadata": {
    "colab": {
     "base_uri": "https://localhost:8080/"
    },
    "id": "OZsO1sbWPhex",
    "outputId": "7a07953c-fea9-4bbb-f04e-e1c55047491a"
   },
   "outputs": [],
   "source": [
    "i = True\n",
    "print(type(i))"
   ]
  },
  {
   "cell_type": "markdown",
   "metadata": {},
   "source": [
    "#### Byte (often used whilst reading data)"
   ]
  },
  {
   "cell_type": "code",
   "execution_count": null,
   "metadata": {
    "colab": {
     "base_uri": "https://localhost:8080/"
    },
    "id": "iaIr2cnXQOrL",
    "outputId": "29147124-4244-46f3-f4ba-8cf65a38af28"
   },
   "outputs": [],
   "source": [
    "j = b'a' # a --> Bin=1100001 Dec=97\n",
    "print(type(j))"
   ]
  },
  {
   "cell_type": "markdown",
   "metadata": {},
   "source": [
    "#### NoneType (important to allocate empty variable, to assign \"not a number\", set value invalid, return nothing, ...)"
   ]
  },
  {
   "cell_type": "code",
   "execution_count": null,
   "metadata": {
    "colab": {
     "base_uri": "https://localhost:8080/"
    },
    "id": "5FOgW8m1PqlL",
    "outputId": "eaf2b520-616e-419e-ec3f-b3979f2567f1"
   },
   "outputs": [],
   "source": [
    "k = None\n",
    "print(type(k))"
   ]
  },
  {
   "cell_type": "markdown",
   "metadata": {
    "id": "hnh0or2nQCG2"
   },
   "source": [
    "### L1.1.2 Structured data types (Lists, Tuples, Sets, Dicts)"
   ]
  },
  {
   "attachments": {},
   "cell_type": "markdown",
   "metadata": {},
   "source": [
    "#### Lists and tuples (very often used to store sequences and time series)\n",
    "Store multiple numbers within one data sequence.\n",
    "Lists are in the form of: \n",
    "\n",
    "\\begin{align}\n",
    "\\overrightarrow{x} in~\\mathbb{N}^{n \\times 1}\n",
    "\\end{align}"
   ]
  },
  {
   "cell_type": "code",
   "execution_count": null,
   "metadata": {
    "colab": {
     "base_uri": "https://localhost:8080/"
    },
    "id": "cmU6JAYNQMxJ",
    "outputId": "ce3aefcd-d2c6-497c-8db4-b45099a2111b"
   },
   "outputs": [],
   "source": [
    "l = [1, '2', str(3), 4+1j, 55e-10]\n",
    "#    0,  1 ,   3   ,   4 ,    5\n",
    "print(type(l))\n",
    "\n",
    "# Length of a list (elements within the brackets)\n",
    "print(len(l))\n",
    "# Slicing (go to specific elements within list)\n",
    "print(l[0]) # very first element in list\n",
    "print(l[-1]) # last element in list\n",
    "print(l[1:4])\n",
    "\n",
    "# Appending elements to list\n",
    "l.append('sixth')\n",
    "# Appending list to list\n",
    "l.extend([7, 8])\n",
    "\n",
    "# Remove values\n",
    "l.pop() # Pop last element\n",
    "l.pop(2) # Pop third element\n",
    "l.remove('sixth') # Remove element by key\n",
    "del l[0]\n",
    "\n",
    "# Get index of specific value\n",
    "l.index((5.5e-09))\n",
    "print(l.index((5.5e-09)))"
   ]
  },
  {
   "cell_type": "markdown",
   "metadata": {},
   "source": [
    "#### Tuple"
   ]
  },
  {
   "cell_type": "code",
   "execution_count": null,
   "metadata": {
    "colab": {
     "base_uri": "https://localhost:8080/"
    },
    "id": "GgDX3ASnRnqB",
    "outputId": "3883fe99-2993-4fdc-d658-be78de657c77"
   },
   "outputs": [],
   "source": [
    "m = (1,2,3,4, [5,6])\n",
    "print(type(m))"
   ]
  },
  {
   "cell_type": "markdown",
   "metadata": {},
   "source": [
    "#### Multidimensional lists\n",
    "Lists consists of Lists are also existing. Often used to store object data such as images and other n-dim data. The form of list of lists is defined as the following:\n",
    "\\begin{align}\n",
    "\\overrightarrow{x} in~\\mathbb{N}^{n \\times m}\n",
    "\\end{align}"
   ]
  },
  {
   "cell_type": "code",
   "execution_count": null,
   "metadata": {},
   "outputs": [],
   "source": [
    "rows = [[128, 102, 256], [102, 148, 124], [24, 78, 154], [24, 78, 154]]"
   ]
  },
  {
   "cell_type": "code",
   "execution_count": null,
   "metadata": {
    "colab": {
     "base_uri": "https://localhost:8080/"
    },
    "id": "K8R8QcIVUwMX",
    "outputId": "ae0619c1-59e2-4c18-d1a3-046e2fd326b4"
   },
   "outputs": [],
   "source": [
    "## Set\n",
    "n = set(['This', 'is','a', 'set'])\n",
    "n.add('T') # Add items -> Sorted\n",
    "n.add('T') # Duplicate not allowed\n",
    "n.discard('T')  # Discard item\n",
    "n.remove('This') # Remove item\n",
    "print(n)\n",
    "n.pop();"
   ]
  },
  {
   "cell_type": "code",
   "execution_count": null,
   "metadata": {
    "id": "gNw8ZLZFVeB4"
   },
   "outputs": [],
   "source": [
    "## Dict\n",
    "o = {'Data Science': 'is cool'} # {key: value}\n",
    "o['AI'] = 'is cooler'\n",
    "print(o)"
   ]
  },
  {
   "cell_type": "markdown",
   "metadata": {},
   "source": [
    "## L1.2. In-build functions, unary and binary operators\n",
    "If you want to multiply simple numbers, you want to determine the difference or you want to check if a number is even or odd, you have to use simple mathematical operations. \n",
    "Fundamental operations are included in plain python. If you need more mathematical methods, we recommend [numpy](https://numpy.org/doc/stable/user/whatisnumpy.html)"
   ]
  },
  {
   "cell_type": "markdown",
   "metadata": {},
   "source": [
    "#### L1.2.1 unary and binary operators"
   ]
  },
  {
   "cell_type": "code",
   "execution_count": null,
   "metadata": {},
   "outputs": [],
   "source": [
    "# Addition\n",
    "print('---- Addition ----')\n",
    "print(1 + 1)\n",
    "print('------------------')\n",
    "print('\\n')\n",
    "\n",
    "# Concatenate lists\n",
    "print('---- Concat ----')\n",
    "print([1,2,3] + [4,5,6])\n",
    "print('----------------')\n",
    "print('\\n')\n",
    "\n",
    "# Subtraction\n",
    "print('---- Subtraction ----')\n",
    "print(10-6)\n",
    "print('---------------------')\n",
    "print('\\n')\n",
    "\n",
    "# Multiplication\n",
    "print('---- Multiplication ----')\n",
    "print(10*0.45)\n",
    "print('------------------------')\n",
    "print('\\n')\n",
    "\n",
    "# Division (float)\n",
    "print('---- Division (float) ----')\n",
    "print(10/2)\n",
    "print('--------------------------')\n",
    "print('\\n')\n",
    "\n",
    "# Division (int)\n",
    "print('---- Division (int) ----')\n",
    "print(10//2)\n",
    "print('------------------------')\n",
    "print('\\n')\n",
    "\n",
    "# Power of 2\n",
    "print('---- Power ----')\n",
    "print(10.0**2)\n",
    "print('----------------')\n",
    "print('\\n')\n",
    "\n",
    "# Modulo\n",
    "print('---- Modulo (Divison with rest) ----')\n",
    "print(10.1%2)\n",
    "print('------------------------------------')\n",
    "print('\\n')\n",
    "\n",
    "# Bitshift\n",
    "print('---- Bitshift (Multiplication by 2) ----')\n",
    "print(128 * 2)\n",
    "print('Bitshift, one position, left')\n",
    "print(128 << 1)\n",
    "print('\\n')\n",
    "print(256 // 2)\n",
    "print('Bitshift, one position, right')\n",
    "print(256 >> 1)\n",
    "print('------------------------------------')\n",
    "print('\\n')"
   ]
  },
  {
   "cell_type": "markdown",
   "metadata": {},
   "source": [
    "#### L1.2.2. Casts (cast one data type to anther -> Print a string obtained from int)"
   ]
  },
  {
   "cell_type": "code",
   "execution_count": null,
   "metadata": {},
   "outputs": [],
   "source": [
    "# Cast integer (2) to an string, called string\n",
    "string = str(2)\n",
    "\n",
    "# Cast string '2' to float\n",
    "number = float('2')\n",
    "\n",
    "# Cast list of numbers to tuple\n",
    "casted_list = tuple([1,2.0,3,5])\n",
    "\n",
    "# All day example: \n",
    "string = str(42)\n",
    "print('Meaning of life: ' + string)"
   ]
  },
  {
   "cell_type": "code",
   "execution_count": null,
   "metadata": {},
   "outputs": [],
   "source": [
    "# Display casted data type\n",
    "print(type(casted_list))"
   ]
  },
  {
   "cell_type": "code",
   "execution_count": null,
   "metadata": {},
   "outputs": [],
   "source": [
    "# We can concatenate only same data types togehter\n",
    "#print('Meaning of life: ' + 42)"
   ]
  },
  {
   "cell_type": "markdown",
   "metadata": {
    "id": "NOE5KLLnmfYF"
   },
   "source": [
    "## L1.3. Modules & Functions"
   ]
  },
  {
   "cell_type": "markdown",
   "metadata": {},
   "source": [
    "### L1.3.1. Modules, standard libraries"
   ]
  },
  {
   "cell_type": "code",
   "execution_count": null,
   "metadata": {
    "colab": {
     "base_uri": "https://localhost:8080/"
    },
    "id": "ALDpH3afmohb",
    "outputId": "ed463507-1379-4b15-cbb2-ad17c1431a99"
   },
   "outputs": [],
   "source": [
    "# Import library X\n",
    "import sys\n",
    "print(sys.version)  # Which version of python do I have installed?\n",
    "\n",
    "import os\n",
    "print(os.path)  # What is the path to my interpreter?\n",
    "\n",
    "# Import library X as Y (instance)\n",
    "import numpy as np\n",
    "print(np.version)"
   ]
  },
  {
   "cell_type": "markdown",
   "metadata": {},
   "source": [
    "### L1.4.2. Functions\n",
    "A function is a (user-) defined block of code which only runs when it is called (so-called function-call). You can pass every kind of data (parameters) into a function. A function can either return data as a result or work on \"reference\". "
   ]
  },
  {
   "cell_type": "code",
   "execution_count": null,
   "metadata": {
    "colab": {
     "base_uri": "https://localhost:8080/"
    },
    "id": "d0kKF2z_oWn5",
    "outputId": "5daf29b0-c8e5-4e7a-fdd5-5d3d45819cbc"
   },
   "outputs": [],
   "source": [
    "## Functions of modules\n",
    "deg = np.sin(90) # Sinus of 90 deg = 1\n",
    "\n",
    "# Calling a function within a function\n",
    "rad = np.sin(np.deg2rad(90))  # Sinus of 90 deg * 180/pi = 90 rad\n",
    "\n",
    "print('Answer in deg: ' + str(deg) + '\\n')\n",
    "print('Answer in rad: ' + str(rad))"
   ]
  },
  {
   "cell_type": "code",
   "execution_count": null,
   "metadata": {
    "id": "05Abf9oiqS_D"
   },
   "outputs": [],
   "source": [
    "def my_mean(input_argument):\n",
    "    \"\"\"\n",
    "    Function to determine mean value\n",
    "    :param inpute_argument: Input signal \n",
    "    :type input_parameter: array like\n",
    "    \"\"\"\n",
    "    sum = 0\n",
    "    for i, _ in enumerate(input_argument):\n",
    "        sum += input_argument[i]\n",
    "    return sum/len(input_argument)"
   ]
  },
  {
   "cell_type": "code",
   "execution_count": null,
   "metadata": {
    "id": "XASkNxRDrViI"
   },
   "outputs": [],
   "source": [
    "# Define list to determine the mean value of it. From 0 to 1000, step size = 1\n",
    "my_list = np.arange(0, 1000, 1)"
   ]
  },
  {
   "cell_type": "code",
   "execution_count": null,
   "metadata": {
    "colab": {
     "base_uri": "https://localhost:8080/"
    },
    "id": "Tf5cap2YmvJJ",
    "outputId": "47c75b79-c260-4a84-8785-3a02dc4d1af1"
   },
   "outputs": [],
   "source": [
    "%time  # %-calls are so-called magics. These are in-build function in jupyther\n",
    "my_result = my_mean(my_list)\n",
    "print(my_result)"
   ]
  },
  {
   "cell_type": "markdown",
   "metadata": {},
   "source": [
    "#### Example: Call by object reference"
   ]
  },
  {
   "cell_type": "code",
   "execution_count": 1,
   "metadata": {
    "id": "M5-01cxNkU45"
   },
   "outputs": [
    {
     "name": "stdout",
     "output_type": "stream",
     "text": [
      "Original: [1.0, 1.0]\n",
      "Processed: [42.0, 1.0]\n"
     ]
    }
   ],
   "source": [
    "# Example 1: Parse list to function, multiply the first element and step back to main \n",
    "test_int = [1.0, 1.0]\n",
    "print('Original: ' + str(test_int))\n",
    "\n",
    "def change_my_int(x):\n",
    "    \"\"\"\n",
    "    Function to multiply the first element of x with 42\n",
    "    :param x: Input list\n",
    "    :type x: list\n",
    "    :return: None\n",
    "    :rtype: None\n",
    "    \"\"\"\n",
    "    x[0] = x[0] * 42\n",
    "\n",
    "# Call function and hand over test_int    \n",
    "change_my_int(test_int)\n",
    "# Print result\n",
    "print('Processed: ' + str(test_int))"
   ]
  },
  {
   "cell_type": "code",
   "execution_count": 2,
   "metadata": {},
   "outputs": [
    {
     "name": "stdout",
     "output_type": "stream",
     "text": [
      "Original: I am Original\n",
      "Processed: I am Original\n"
     ]
    }
   ],
   "source": [
    "# Example 2: Parse string to function, replace  \"am\" with \"am not\"\n",
    "test_str = 'I am Original'\n",
    "print('Original: ' + test_str)\n",
    "def change_my_str(x):\n",
    "    x.replace('am', 'am not')\n",
    "change_my_str(test_str)\n",
    "print('Processed: ' + test_str)"
   ]
  },
  {
   "cell_type": "code",
   "execution_count": 3,
   "metadata": {},
   "outputs": [
    {
     "name": "stdout",
     "output_type": "stream",
     "text": [
      "------- Validation -------\n",
      "Original: I am Original\n",
      "Processed: I am not Original\n"
     ]
    }
   ],
   "source": [
    "print('------- Validation -------')\n",
    "print('Original: ' + test_str)\n",
    "print('Processed: ' + test_str.replace('am', 'am not'))"
   ]
  },
  {
   "cell_type": "markdown",
   "metadata": {},
   "source": [
    "## L1.4. Comprehensions"
   ]
  },
  {
   "cell_type": "markdown",
   "metadata": {},
   "source": [
    "#### L1.4.0. Data set"
   ]
  },
  {
   "cell_type": "code",
   "execution_count": null,
   "metadata": {},
   "outputs": [],
   "source": [
    "# list with numbers\n",
    "data = [1,2,3,4]\n",
    "\n",
    "# Dict with three fields, consists of strings, floats, Nones\n",
    "data_set = {'Gender': ['m', 'm', 'm', 'f', 'f', 'f', 'd'], \n",
    "           'Height': [1.85, 1.99, 1.87, 1.72, 1.68, 1.78, 1.98]}"
   ]
  },
  {
   "cell_type": "markdown",
   "metadata": {},
   "source": [
    "#### L1.4.1. If else "
   ]
  },
  {
   "cell_type": "code",
   "execution_count": null,
   "metadata": {},
   "outputs": [],
   "source": [
    "# Simple if-else, checking of data types\n",
    "if isinstance(data, list):\n",
    "    print('yes, it`s a list')\n",
    "else: \n",
    "    print('no, it`s not  list')\n",
    "\n",
    "# If elseif else\n",
    "if isinstance(data, tuple):\n",
    "    print('it`s a tuple')\n",
    "elif isinstance(data, list): \n",
    "    print('it`s a list')\n",
    "else: \n",
    "    print('neither list, nor tuple')\n",
    "\n",
    "# Check if numbers are equal\n",
    "i = 1\n",
    "if i == 1:\n",
    "    print('i equals to 1')\n",
    "else: \n",
    "    print('i equals not to 1')\n",
    "\n",
    "# Other comparisons avaiable\n",
    "\n",
    "# != not\n",
    "# < smaller than\n",
    "# <= smaller equals\n",
    "# > greater\n",
    "# >= greater equals"
   ]
  },
  {
   "cell_type": "markdown",
   "metadata": {},
   "source": [
    "#### L1.4.2. try except (catch)\n",
    "zo avoid unexpected behavior and to robusten your code, you can use try except/catch statements.\n",
    "![](https://i.redd.it/atf1ietqwaxy.jpg)"
   ]
  },
  {
   "cell_type": "code",
   "execution_count": null,
   "metadata": {},
   "outputs": [],
   "source": [
    "try:\n",
    "    print(Meme)\n",
    "except NameError:\n",
    "    print(\"Meme is not defined\")\n",
    "except:\n",
    "    print(\"Something else went wrong\")"
   ]
  },
  {
   "cell_type": "markdown",
   "metadata": {},
   "source": [
    "## L1.5. Loops\n",
    "If you want to go through a set of data or iterate over an array (as for instance a given image) you can you loops.\n",
    "![](http://res.cloudinary.com/dyd911kmh/image/upload/f_auto,q_auto:best/v1508331558/Loop_2-2_igl4qt.jpg)"
   ]
  },
  {
   "cell_type": "markdown",
   "metadata": {},
   "source": [
    "#### L1.5.2. while loop\n",
    "The loop consists of three components that you need to construct the *while* loop in Python:\n",
    "\n",
    "- The *while* keyword\n",
    "- A *condition* that transates to either True or False\n",
    "- A block of *code* that you want to execute repeatedly\n"
   ]
  },
  {
   "cell_type": "code",
   "execution_count": 4,
   "metadata": {},
   "outputs": [
    {
     "name": "stdout",
     "output_type": "stream",
     "text": [
      "0\n",
      "1\n",
      "2\n",
      "3\n",
      "4\n",
      "5\n",
      "6\n",
      "7\n",
      "8\n",
      "9\n",
      "10\n",
      "11\n",
      "12\n",
      "13\n",
      "14\n",
      "15\n",
      "16\n",
      "17\n",
      "18\n",
      "19\n"
     ]
    }
   ],
   "source": [
    "# Running variable i\n",
    "i = 0\n",
    "while i < 20:  # Condition check, if True, go into code block\n",
    "    print(i)\n",
    "    # Dont forget to increment, otherwise you have a infinity loop\n",
    "    i += 1  # Short for i = i + 1 (post-increment) "
   ]
  },
  {
   "cell_type": "code",
   "execution_count": null,
   "metadata": {},
   "outputs": [],
   "source": [
    "# Infinity loop\n",
    "while 0.01: # Every boolean (everything except 0 is true! )\n",
    "    print(\"I'll run till infinity\")"
   ]
  },
  {
   "cell_type": "markdown",
   "metadata": {},
   "source": [
    "#### L1.5.1. for loop\n",
    "The loop consists of five elements that you need to construct the while loop in Python:\n",
    "\n",
    "- The *for* keyword\n",
    "- A running variable *i*\n",
    "- The *in* keyword\n",
    "- The *range()* function, which is an built-in function in the Python library to create a sequence of numbers\n",
    "- The *code* that you want to execute repeatedly\n"
   ]
  },
  {
   "cell_type": "code",
   "execution_count": null,
   "metadata": {},
   "outputs": [],
   "source": [
    "# Easy for loop\n",
    "# Running variable i (or k/j) is incremented after going into loop body.\n",
    "# Running from 0 to 10 (exclude, 10 times in total)\n",
    "for i in range(0, 10):\n",
    "    print(i)"
   ]
  },
  {
   "cell_type": "code",
   "execution_count": null,
   "metadata": {},
   "outputs": [],
   "source": [
    "# You can use the length of a list to iterate over\n",
    "for i in range(0, len(data)):\n",
    "    print(data[i])"
   ]
  },
  {
   "cell_type": "code",
   "execution_count": null,
   "metadata": {},
   "outputs": [],
   "source": [
    "# Using itertors are more performant (at least in C/C++)\n",
    "for index, value in enumerate([10,20,30,40,50,60]):\n",
    "    print('Index: ' + str(index))\n",
    "    print('Value: ' + str(value))"
   ]
  },
  {
   "cell_type": "code",
   "execution_count": null,
   "metadata": {},
   "outputs": [],
   "source": [
    "# Using a dict-key as iterator \n",
    "avg_dict = {}\n",
    "# we want to average all channels which are numerics\n",
    "for key in data_set.keys():\n",
    "  # check data type\n",
    "  if isinstance(data_set[key][0], float):\n",
    "    # Allocation of an empty list, called tmp\n",
    "    tmp = []\n",
    "    for element in data_set[key]:\n",
    "        tmp.append(element)\n",
    "        # Average\n",
    "        avg_dict[key] = round(sum(tmp)/len(tmp), 2)\n",
    "    else:\n",
    "        continue\n",
    "\n",
    "print(avg_dict)"
   ]
  }
 ],
 "metadata": {
  "colab": {
   "collapsed_sections": [
    "Wc-G0cKBPv8t",
    "hnh0or2nQCG2",
    "PPkuz8VsdKaW",
    "24dzev-6dPue"
   ],
   "name": "E1.1.ipynb",
   "provenance": []
  },
  "kernelspec": {
   "display_name": "local-venv",
   "language": "python",
   "name": "local-venv"
  },
  "language_info": {
   "codemirror_mode": {
    "name": "ipython",
    "version": 3
   },
   "file_extension": ".py",
   "mimetype": "text/x-python",
   "name": "python",
   "nbconvert_exporter": "python",
   "pygments_lexer": "ipython3",
   "version": "3.8.5"
  }
 },
 "nbformat": 4,
 "nbformat_minor": 1
}
