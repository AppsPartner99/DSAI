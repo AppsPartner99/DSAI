{
 "cells": [
  {
   "cell_type": "markdown",
   "metadata": {},
   "source": [
    "# Gradient Descent"
   ]
  },
  {
   "cell_type": "markdown",
   "metadata": {},
   "source": [
    "## Recap"
   ]
  },
  {
   "cell_type": "markdown",
   "metadata": {},
   "source": [
    "This notebook illustrates the functional principle of Gradient Descent.  \n",
    "The objective is to find the global minimum of the linear parabolic function:"
   ]
  },
  {
   "cell_type": "markdown",
   "metadata": {},
   "source": [
    "$y(x)=2x^2$"
   ]
  },
  {
   "cell_type": "markdown",
   "metadata": {},
   "source": [
    "To apply Gradient Descent the first derivative $\\nabla_x y(x)$ of the objective function after all free parameters is needed:"
   ]
  },
  {
   "cell_type": "markdown",
   "metadata": {},
   "source": [
    "$\\nabla_x y(x) = 4x$"
   ]
  },
  {
   "cell_type": "markdown",
   "metadata": {},
   "source": [
    "Now the parameter update turns out to be:"
   ]
  },
  {
   "cell_type": "markdown",
   "metadata": {},
   "source": [
    "$x \\to x - \\eta * 4x = x(1-4\\eta)$"
   ]
  },
  {
   "cell_type": "markdown",
   "metadata": {},
   "source": [
    "## Example"
   ]
  },
  {
   "cell_type": "code",
   "execution_count": 150,
   "metadata": {},
   "outputs": [],
   "source": [
    "import numpy as np\n",
    "from matplotlib import pyplot as plt\n",
    "from IPython.display import display, clear_output\n",
    "import math"
   ]
  },
  {
   "cell_type": "markdown",
   "metadata": {},
   "source": [
    "### Define our objective function"
   ]
  },
  {
   "cell_type": "code",
   "execution_count": 151,
   "metadata": {},
   "outputs": [],
   "source": [
    "def objectiveFunction(x):\n",
    "    return 2 * x * x"
   ]
  },
  {
   "cell_type": "markdown",
   "metadata": {},
   "source": [
    "### Define our parameter update function"
   ]
  },
  {
   "cell_type": "code",
   "execution_count": 152,
   "metadata": {},
   "outputs": [],
   "source": [
    "def gradientDescent(oldParameter, stepSize):\n",
    "    return oldParameter * (1.0 - 4.0*stepSize)"
   ]
  },
  {
   "cell_type": "markdown",
   "metadata": {},
   "source": [
    "### Define our possible parameter space"
   ]
  },
  {
   "cell_type": "code",
   "execution_count": 153,
   "metadata": {},
   "outputs": [],
   "source": [
    "xSpace = np.arange(-2.0,2.01,0.01)"
   ]
  },
  {
   "cell_type": "markdown",
   "metadata": {},
   "source": [
    "### Initialize the parameter"
   ]
  },
  {
   "cell_type": "code",
   "execution_count": 208,
   "metadata": {},
   "outputs": [],
   "source": [
    "xInit = 1.8\n",
    "stepSize = 0.01 # 0.49"
   ]
  },
  {
   "cell_type": "markdown",
   "metadata": {},
   "source": [
    "### Visualize the iterative process"
   ]
  },
  {
   "cell_type": "code",
   "execution_count": 213,
   "metadata": {},
   "outputs": [
    {
     "data": {
      "image/png": "[encoded data removed]",
      "text/plain": [
       "<Figure size 720x360 with 2 Axes>"
      ]
     },
     "metadata": {},
     "output_type": "display_data"
    }
   ],
   "source": [
    "fig = plt.figure(figsize=(10,5))\n",
    "ax = fig.add_subplot(1, 2, 1) \n",
    "ax2 = fig.add_subplot(1, 2, 2) \n",
    "\n",
    "xValues = [xInit]\n",
    "objectiveValues = [objectiveFunction(xInit)]\n",
    "xCurrent = xInit\n",
    "\n",
    "durr = np.arange(0.5,0,-0.005)\n",
    "durr = durr * durr * durr * durr\n",
    "\n",
    "step = 0\n",
    "for d in durr:\n",
    "    \n",
    "    # perform the parameter update\n",
    "    xCurrent = gradientDescent(xCurrent, stepSize)\n",
    "    xValues.append(xCurrent)\n",
    "    objectiveValues.append(objectiveFunction(xCurrent))\n",
    "\n",
    "    # just for plotting\n",
    "    ax.cla()\n",
    "    ax2.cla()\n",
    "    ax.set_xlim(-2.2, 2.2)\n",
    "    ax2.set_xlim(-10,len(durr)+10)\n",
    "    ax2.set_ylim(-0.5,8.3)\n",
    "    \n",
    "    # plot the global objective function, the previous and the current objective values\n",
    "    ax.plot(xSpace,objectiveFunction(xSpace),'k', label=\"global objective function\")\n",
    "    ax.plot(xValues,objectiveValues,'bo-',alpha=0.5,label=\"previous values\")\n",
    "    ax.plot(xCurrent,objectiveFunction(xCurrent),'ro',label=\"current value\")\n",
    "    \n",
    "    # plot also the current loss\n",
    "    ax2.plot(objectiveValues)\n",
    "    \n",
    "    fig.suptitle(f'Step {step}\\n current objective value: {objectiveFunction(xCurrent)}')\n",
    "    display(fig);\n",
    "    \n",
    "    clear_output(wait = True)\n",
    "    plt.pause(d)\n",
    "    step +=1"
   ]
  }
 ],
 "metadata": {
  "kernelspec": {
   "display_name": "Python 3",
   "language": "python",
   "name": "python3"
  },
  "language_info": {
   "codemirror_mode": {
    "name": "ipython",
    "version": 3
   },
   "file_extension": ".py",
   "mimetype": "text/x-python",
   "name": "python",
   "nbconvert_exporter": "python",
   "pygments_lexer": "ipython3",
   "version": "3.8.5"
  }
 },
 "nbformat": 4,
 "nbformat_minor": 4
}
